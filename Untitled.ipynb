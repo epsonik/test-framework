{
 "cells": [
  {
   "cell_type": "code",
   "execution_count": 44,
   "id": "b2358b39",
   "metadata": {},
   "outputs": [],
   "source": [
    "import numpy as np\n",
    "from numpy import array\n",
    "import pandas as pd\n",
    "import matplotlib.pyplot as plt\n",
    "import string\n",
    "import os\n",
    "from PIL import Image\n",
    "import glob\n",
    "from pickle import dump, load\n",
    "from time import time\n",
    "from keras.preprocessing import sequence\n",
    "from keras.models import Sequential\n",
    "from keras.layers import LSTM, Embedding, TimeDistributed, Dense, RepeatVector,\\\n",
    "                         Activation, Flatten, Reshape, concatenate, Dropout, BatchNormalization\n",
    "from tensorflow.keras.optimizers import Adam, RMSprop\n",
    "from keras.layers.wrappers import Bidirectional\n",
    "from keras.layers.merge import add\n",
    "from keras.applications.inception_v3 import InceptionV3\n",
    "from keras.preprocessing import image\n",
    "from keras.models import Model\n",
    "from keras import Input, layers\n",
    "from keras import optimizers\n",
    "from keras.applications.inception_v3 import preprocess_input\n",
    "from keras.preprocessing.text import Tokenizer\n",
    "from keras.preprocessing.sequence import pad_sequences\n",
    "from tensorflow.keras.utils import to_categorical\n",
    "from nltk.translate.meteor_score import meteor_score\n",
    "from nltk.translate.bleu_score import sentence_bleu, corpus_bleu\n",
    "from keras import callbacks\n",
    "from keras import optimizers\n",
    "import json\n",
    "import os\n",
    "from helper import *\n",
    "from config import *\n",
    "from dataloader import *\n",
    "from model import *"
   ]
  },
  {
   "cell_type": "code",
   "execution_count": 47,
   "id": "77810906",
   "metadata": {},
   "outputs": [],
   "source": [
    "dataset={}\n",
    "import csv\n",
    "from csv import reader\n",
    "counter=0\n",
    "FIELDNAMES=[\"image_name\",\"caption\"]\n",
    "with open(\"/home2/data/images/flickr8k_polish/Flickr8k_text/descriptions_flickr8k_translated.csv\", \"r\") as tsv_in_file:\n",
    "    reader = reader(tsv_in_file, delimiter='|')\n",
    "    for item in reader:\n",
    "#         dataset.append([str(item[\"image_name\"])+\".jpg\"+\"#\"+str(counter), item[\"caption\"]])\n",
    "        if item[0] not in dataset:\n",
    "            dataset[item[0]]=[item[1]]\n",
    "        else:\n",
    "            dataset[item[0]].append(item[1])\n",
    "\n"
   ]
  },
  {
   "cell_type": "code",
   "execution_count": 54,
   "id": "7b383f6b",
   "metadata": {},
   "outputs": [],
   "source": [
    "dataset_l=[]\n",
    "counter2=0\n",
    "for x in dataset.keys():\n",
    "    captions=dataset[x]\n",
    "    counter=0\n",
    "    counter2+=1\n",
    "    for caption in captions:\n",
    "        dataset_l.append([str(x)+\".jpg\"+\"#\"+str(counter), caption])\n",
    "        counter+=1\n"
   ]
  },
  {
   "cell_type": "code",
   "execution_count": 55,
   "id": "f06f66eb",
   "metadata": {},
   "outputs": [
    {
     "name": "stdout",
     "output_type": "stream",
     "text": [
      "8091\n"
     ]
    }
   ],
   "source": [
    "print(counter2)"
   ]
  },
  {
   "cell_type": "code",
   "execution_count": 51,
   "id": "43e31e7c",
   "metadata": {},
   "outputs": [],
   "source": [
    "with open(\"flickr8k.translated.token.txt\", \"w\") as f:\n",
    "    wr = csv.writer(f, delimiter=\"\\t\")\n",
    "    wr.writerows(dataset_l)"
   ]
  },
  {
   "cell_type": "code",
   "execution_count": null,
   "id": "da826485",
   "metadata": {},
   "outputs": [],
   "source": []
  }
 ],
 "metadata": {
  "kernelspec": {
   "display_name": "framework",
   "language": "python",
   "name": "framework"
  },
  "language_info": {
   "codemirror_mode": {
    "name": "ipython",
    "version": 3
   },
   "file_extension": ".py",
   "mimetype": "text/x-python",
   "name": "python",
   "nbconvert_exporter": "python",
   "pygments_lexer": "ipython3",
   "version": "3.8.10"
  }
 },
 "nbformat": 4,
 "nbformat_minor": 5
}
