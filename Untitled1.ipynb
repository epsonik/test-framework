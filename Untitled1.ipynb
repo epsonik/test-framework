{
 "cells": [
  {
   "cell_type": "code",
   "execution_count": 9,
   "id": "9ae5aca8",
   "metadata": {},
   "outputs": [],
   "source": [
    "import numpy as np\n",
    "from numpy import array\n",
    "import pandas as pd\n",
    "import matplotlib.pyplot as plt\n",
    "import string\n",
    "import os\n",
    "from PIL import Image\n",
    "import glob\n",
    "from pickle import dump, load\n",
    "from time import time\n",
    "from keras.preprocessing import sequence\n",
    "from keras.models import Sequential\n",
    "from keras.layers import LSTM, Embedding, TimeDistributed, Dense, RepeatVector,\\\n",
    "                         Activation, Flatten, Reshape, concatenate, Dropout, BatchNormalization\n",
    "from tensorflow.keras.optimizers import Adam, RMSprop\n",
    "from keras.layers.wrappers import Bidirectional\n",
    "from keras.layers.merge import add\n",
    "from keras.applications.inception_v3 import InceptionV3\n",
    "from keras.preprocessing import image\n",
    "from keras.models import Model\n",
    "from keras import Input, layers\n",
    "from keras import optimizers\n",
    "from keras.applications.inception_v3 import preprocess_input\n",
    "from keras.preprocessing.text import Tokenizer\n",
    "from keras.preprocessing.sequence import pad_sequences\n",
    "from tensorflow.keras.utils import to_categorical\n",
    "from nltk.translate.meteor_score import meteor_score\n",
    "from nltk.translate.bleu_score import sentence_bleu, corpus_bleu\n",
    "from keras import callbacks\n",
    "from keras import optimizers\n",
    "import json\n",
    "import copy\n",
    "from helper import *\n",
    "from config import config_coco14\n",
    "from dataloader import *\n",
    "from model import *"
   ]
  },
  {
   "cell_type": "code",
   "execution_count": 3,
   "id": "82aea27f",
   "metadata": {},
   "outputs": [],
   "source": [
    "input_train = \"/home2/data/images/coco2017/annotations/captions_train2017.json\"\n",
    "input_val = \"/home2/data/images/coco2017/annotations/captions_val2017.json\"\n",
    "\n",
    "cocoD = \"/home2/data/images/coco2017/annotations/dataset_coco.json\"\n",
    "train = json.load(open(input_train))\n",
    "val = json.load(open(input_val))\n",
    "coco = json.load(open(cocoD))"
   ]
  },
  {
   "cell_type": "code",
   "execution_count": 6,
   "id": "62925ad4",
   "metadata": {},
   "outputs": [],
   "source": [
    "val_ids=[]\n",
    "for ix in range(len(val['images'])):\n",
    "    id = val['images'][ix][\"id\"]\n",
    "    val_ids.append(id)\n",
    "train_ids=[]\n",
    "for ix in range(len(train['images'])):\n",
    "    id = train['images'][ix][\"id\"]\n",
    "    train_ids.append(id)"
   ]
  },
  {
   "cell_type": "code",
   "execution_count": 11,
   "id": "a3b40180",
   "metadata": {},
   "outputs": [],
   "source": [
    "coco17=copy.copy(coco)\n",
    "for ix in range(len(coco['images'])):\n",
    "    cocoid = coco['images'][ix][\"cocoid\"]\n",
    "    if cocoid in train_ids:\n",
    "        coco17['images'][ix][\"split\"] = \"train\"\n",
    "    if cocoid in val_ids:\n",
    "        coco17['images'][ix][\"split\"] = \"val\""
   ]
  },
  {
   "cell_type": "code",
   "execution_count": 13,
   "id": "5b58b5e4",
   "metadata": {},
   "outputs": [],
   "source": [
    "json_object = json.dumps(coco17)\n",
    " \n",
    "# Writing to sample.json\n",
    "with open(\"coco17_dataset.json\", \"w\") as outfile:\n",
    "    outfile.write(json_object)"
   ]
  },
  {
   "cell_type": "code",
   "execution_count": 16,
   "id": "308d5e83",
   "metadata": {},
   "outputs": [],
   "source": [
    "cocoD17 = \"/home2/data/images/coco2017/annotations/cocotalk.json\"\n",
    "coco17talk = json.load(open(cocoD17))"
   ]
  },
  {
   "cell_type": "code",
   "execution_count": 20,
   "id": "53f523b7",
   "metadata": {},
   "outputs": [
    {
     "name": "stdout",
     "output_type": "stream",
     "text": [
      "5000\n",
      "118288\n"
     ]
    }
   ],
   "source": [
    "coco17talk2=copy.copy(coco17talk)\n",
    "count=0\n",
    "count2=1\n",
    "for ix in range(len(coco17talk['images'])):\n",
    "    cocoid = coco17talk['images'][ix][\"id\"]\n",
    "    if cocoid in train_ids:\n",
    "        coco17talk2['images'][ix][\"split\"] = \"train\"\n",
    "        count2+=1\n",
    "    if cocoid in val_ids:\n",
    "        coco17talk2['images'][ix][\"split\"] = \"val\"\n",
    "        count+=1\n",
    "print(count)\n",
    "print(count2)"
   ]
  },
  {
   "cell_type": "code",
   "execution_count": 18,
   "id": "ebd35389",
   "metadata": {},
   "outputs": [],
   "source": [
    "json_object = json.dumps(coco17talk2)\n",
    " \n",
    "# Writing to sample.json\n",
    "with open(\"coco17_cocotalk.json\", \"w\") as outfile:\n",
    "    outfile.write(json_object)"
   ]
  },
  {
   "cell_type": "code",
   "execution_count": null,
   "id": "5d0ed260",
   "metadata": {},
   "outputs": [],
   "source": []
  }
 ],
 "metadata": {
  "kernelspec": {
   "display_name": "framework",
   "language": "python",
   "name": "framework"
  },
  "language_info": {
   "codemirror_mode": {
    "name": "ipython",
    "version": 3
   },
   "file_extension": ".py",
   "mimetype": "text/x-python",
   "name": "python",
   "nbconvert_exporter": "python",
   "pygments_lexer": "ipython3",
   "version": "3.8.10"
  }
 },
 "nbformat": 4,
 "nbformat_minor": 5
}
