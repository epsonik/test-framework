{
 "cells": [
  {
   "cell_type": "code",
   "execution_count": 1,
   "metadata": {},
   "outputs": [],
   "source": [
    "%matplotlib inline\n",
    "import sys\n",
    "sys.path.append(\"./coco-caption\")\n",
    "from pycocotools.coco import COCO\n",
    "from pycocoevalcap.eval_any import COCOEvalCap\n",
    "import matplotlib.pyplot as plt\n",
    "import skimage.io as io\n",
    "import pylab\n",
    "pylab.rcParams['figure.figsize'] = (10.0, 8.0)\n",
    "import json\n",
    "from json import encoder\n",
    "encoder.FLOAT_REPR = lambda o: format(o, '.3f')\n",
    "from  config_datasets import *\n",
    "from dataloader import get_dataset_configuration, load_all_captions_flickr, load_all_captions_coco\n",
    "import glob\n",
    "import ipywidgets as widgets"
   ]
  },
  {
   "cell_type": "code",
   "execution_count": 2,
   "metadata": {},
   "outputs": [],
   "source": [
    "def load_images_flickr(images_dir):\n",
    "    \"\"\"Method to map images ids to pictures\n",
    "\n",
    "    Parameters\n",
    "    ----------\n",
    "    images_dir: str\n",
    "        Path to the directory with all images from  Flickr type dataset\n",
    "    train_images_file_path\n",
    "        Path to the file with image names of images from train split\n",
    "    test_images_file_path\n",
    "        Path to the file with image names of images from test split\n",
    "    Returns\n",
    "    -------\n",
    "    train_images_mapping: dict->{image_filename: global path to the image}\n",
    "        train split of images\n",
    "    test_images_mapping: dict->{image_filename: global path to the image}\n",
    "        test split of images\n",
    "\n",
    "    \"\"\"\n",
    "    # add global paths to the all images in images_dir directory\n",
    "    all_images = glob.glob(images_dir + '*.jpg')\n",
    "    all_images_mapping=dict()\n",
    "    for i in all_images:  # img is list of full path names of all images\n",
    "        image_name = i.split(\"/\")[-1]\n",
    "        image_id = image_name.split(\".\")[0]\n",
    "        all_images_mapping[image_id] = i  # Add it to the dict of train images\n",
    "    return all_images_mapping"
   ]
  },
  {
   "cell_type": "code",
   "execution_count": 3,
   "metadata": {},
   "outputs": [],
   "source": [
    "def load_images_coco(configuration):\n",
    "    file_with_images_def = configuration[\"images_names_file_path\"]\n",
    "    images_folder = configuration[\"images_dir\"]\n",
    "    info = json.load(open(file_with_images_def))\n",
    "    all_images_mapping = dict()\n",
    "    for ix in range(len(info['images'])):\n",
    "        img = info['images'][ix]\n",
    "        image_filename = img['file_path'].rsplit(\".\", 1)[0]\n",
    "        file_path = images_folder + \"/\" + img['file_path']\n",
    "\n",
    "        if image_filename.find(\"/\") != -1:\n",
    "            image_filename = img['file_path'].rsplit(\"/\", 1)[1].rsplit(\".\", 1)[0]\n",
    "        if img['split'] in ['train','val', 'test', 'restval']:\n",
    "            all_images_mapping[image_filename] = file_path\n",
    "\n",
    "    return all_images_mapping"
   ]
  },
  {
   "cell_type": "code",
   "execution_count": 4,
   "metadata": {},
   "outputs": [],
   "source": [
    "def get_data_for_split(dataset_name):\n",
    "    train_dataset_configuration = get_dataset_configuration(dataset_name)\n",
    "    if train_dataset_configuration[\"data_name\"] in [\"flickr30k\", \"coco17\", \"coco14\"]:\n",
    "        all_captions = load_all_captions_coco(train_dataset_configuration[\"captions_file_path\"])\n",
    "        all_images = load_images_coco(train_dataset_configuration)\n",
    "    if train_dataset_configuration[\"data_name\"] in [\"flickr30k_polish\", \"flickr8k_polish\", \"aide\", \"flickr8k\"]:\n",
    "        all_captions = load_all_captions_flickr(train_dataset_configuration[\"captions_file_path\"])\n",
    "        all_images = load_images_flickr(train_dataset_configuration[\"images_dir\"])            \n",
    "    return all_captions, all_images"
   ]
  },
  {
   "cell_type": "code",
   "execution_count": 5,
   "metadata": {},
   "outputs": [
    {
     "data": {
      "application/vnd.jupyter.widget-view+json": {
       "model_id": "0f8e5e79bb3e40f2a5a8d0bdf0525589",
       "version_major": 2,
       "version_minor": 0
      },
      "text/plain": [
       "Select(description='Name of the dataset:', index=6, options=('flickr30k', 'coco17', 'coco14', 'flickr30k_polis…"
      ]
     },
     "metadata": {},
     "output_type": "display_data"
    }
   ],
   "source": [
    "selectbox = widgets.Select(\n",
    "    options=[\"flickr30k\", \"coco17\", \"coco14\", \"flickr30k_polish\", \"flickr8k_polish\", \"aide\", \"flickr8k\"],\n",
    "    value='flickr8k',\n",
    "    description='Name of the dataset:',\n",
    "    disabled=False\n",
    ")\n",
    "selectbox"
   ]
  },
  {
   "cell_type": "code",
   "execution_count": 15,
   "metadata": {},
   "outputs": [],
   "source": [
    "all_captions, all_images = get_data_for_split(selectbox.value)"
   ]
  },
  {
   "cell_type": "code",
   "execution_count": 17,
   "metadata": {},
   "outputs": [],
   "source": [
    "def show_image_and_captions(image_id):\n",
    "    print('ground truth captions')\n",
    "    print('Dataset name: {}'.format(selectbox.value))\n",
    "    print('\\n'.join(str(x) for x in all_captions[image_id]))\n",
    "    I = io.imread(all_images[image_id])\n",
    "    plt.imshow(I)\n",
    "    plt.axis('off')\n",
    "    plt.show()\n"
   ]
  },
  {
   "cell_type": "code",
   "execution_count": 8,
   "metadata": {},
   "outputs": [
    {
     "data": {
      "text/plain": [
       "8091"
      ]
     },
     "execution_count": 8,
     "metadata": {},
     "output_type": "execute_result"
    }
   ],
   "source": [
    "len(all_images)"
   ]
  },
  {
   "cell_type": "code",
   "execution_count": 9,
   "metadata": {},
   "outputs": [],
   "source": [
    "test=list(all_images.keys())[5]"
   ]
  },
  {
   "cell_type": "code",
   "execution_count": 10,
   "metadata": {},
   "outputs": [
    {
     "data": {
      "text/plain": [
       "'533713007_bf9f3e25b4'"
      ]
     },
     "execution_count": 10,
     "metadata": {},
     "output_type": "execute_result"
    }
   ],
   "source": [
    "test"
   ]
  },
  {
   "cell_type": "code",
   "execution_count": 11,
   "metadata": {},
   "outputs": [
    {
     "data": {
      "text/plain": [
       "<itertools.cycle at 0x7fb364cbd7c0>"
      ]
     },
     "execution_count": 11,
     "metadata": {},
     "output_type": "execute_result"
    }
   ],
   "source": [
    "import itertools\n",
    "itertools.cycle(list(all_images.keys()))"
   ]
  },
  {
   "cell_type": "code",
   "execution_count": 23,
   "metadata": {},
   "outputs": [
    {
     "data": {
      "application/vnd.jupyter.widget-view+json": {
       "model_id": "3379a61d06724ef69db386c4e8181389",
       "version_major": 2,
       "version_minor": 0
      },
      "text/plain": [
       "HBox(children=(LoadedButton(description='<', style=ButtonStyle()), LoadedButton(description='>', style=ButtonS…"
      ]
     },
     "metadata": {},
     "output_type": "display_data"
    },
    {
     "data": {
      "application/vnd.jupyter.widget-view+json": {
       "model_id": "a2202b921a954ff2979aff0650bbbefe",
       "version_major": 2,
       "version_minor": 0
      },
      "text/plain": [
       "Output()"
      ]
     },
     "metadata": {},
     "output_type": "display_data"
    }
   ],
   "source": [
    "from ipywidgets import widgets\n",
    "from ipywidgets import HBox, Output\n",
    "from IPython.display import display, clear_output\n",
    "from traitlets import traitlets\n",
    "from copy import copy\n",
    "\n",
    "\n",
    "class LoadedButton(widgets.Button):\n",
    "    \"\"\"A button that can holds a value as a attribute.\"\"\"\n",
    "\n",
    "    def __init__(self, value=None, *args, **kwargs):\n",
    "        super(LoadedButton, self).__init__(*args, **kwargs)\n",
    "        # Create the value attribute.\n",
    "        self.add_traits(value=traitlets.Any(value))\n",
    "\n",
    "thisandthat = ['ON', 'OFF']\n",
    "range(len(all_images))\n",
    "iterator=[len(all_images),len(all_images)]\n",
    "# iterator=[0,0]\n",
    "left = LoadedButton(description=\"<\", value=iterator )\n",
    "right = LoadedButton(description=\">\", value=iterator)\n",
    "switch = [left, right]\n",
    "\n",
    "combined = HBox([items for items in switch])\n",
    "out = Output()\n",
    "def on_button_left(ex):\n",
    "    with out:\n",
    "        clear_output()\n",
    "        ex.value[0] = ex.value[0]-1\n",
    "        ex.value[1] = ex.value[1]-1\n",
    "        print(ex.value[1])\n",
    "        show_image_and_captions(list(all_images.keys())[ex.value[1]])\n",
    "def on_button_right(ex):\n",
    "    with out:\n",
    "        clear_output()\n",
    "        ex.value[0] = ex.value[0]+1\n",
    "        ex.value[1] = ex.value[1]+1\n",
    "        it=ex.value[0]%len(all_images)\n",
    "        print(it)\n",
    "        show_image_and_captions(list(all_images.keys())[it])\n",
    "l=switch[0].on_click(on_button_left)\n",
    "r=switch[1].on_click(on_button_right)\n",
    "display(combined)\n",
    "display(out)\n"
   ]
  },
  {
   "cell_type": "code",
   "execution_count": null,
   "metadata": {},
   "outputs": [],
   "source": [
    "\n"
   ]
  }
 ],
 "metadata": {
  "kernelspec": {
   "display_name": "framework",
   "language": "python",
   "name": "framework"
  },
  "language_info": {
   "codemirror_mode": {
    "name": "ipython",
    "version": 3
   },
   "file_extension": ".py",
   "mimetype": "text/x-python",
   "name": "python",
   "nbconvert_exporter": "python",
   "pygments_lexer": "ipython3",
   "version": "3.8.10"
  }
 },
 "nbformat": 4,
 "nbformat_minor": 1
}
