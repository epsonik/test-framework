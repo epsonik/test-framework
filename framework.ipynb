{
 "cells": [
  {
   "cell_type": "code",
   "execution_count": 1,
   "id": "b2358b39",
   "metadata": {},
   "outputs": [
    {
     "name": "stderr",
     "output_type": "stream",
     "text": [
      "Using TensorFlow backend.\n"
     ]
    }
   ],
   "source": [
    "from dataloader import *\n",
    "from  config import *\n",
    "from data_processor import preprocess_data"
   ]
  },
  {
   "cell_type": "code",
   "execution_count": 2,
   "id": "0cd4e618",
   "metadata": {
    "scrolled": true
   },
   "outputs": [],
   "source": [
    "data = DataLoader(config_mixed_flickr8k_flickr8k_n)\n",
    "# print(config_mixed_flickr8k_flickr8k)"
   ]
  },
  {
   "cell_type": "code",
   "execution_count": 3,
   "id": "6a1c1e2b",
   "metadata": {
    "pycharm": {
     "name": "#%%\n"
    }
   },
   "outputs": [
    {
     "name": "stdout",
     "output_type": "stream",
     "text": [
      "Number of training captions  41\n",
      "Description Length: 11\n",
      "preprocessed words 20 -> 13\n",
      "Vocab size:  14\n",
      "Found 400000 word vectors.\n"
     ]
    }
   ],
   "source": [
    "preprocess_data(data)"
   ]
  },
  {
   "cell_type": "code",
   "execution_count": 4,
   "id": "b6a67206",
   "metadata": {},
   "outputs": [
    {
     "ename": "KeyError",
     "evalue": "'train_images_mapping_original'",
     "output_type": "error",
     "traceback": [
      "\u001b[0;31m---------------------------------------------------------------------------\u001b[0m",
      "\u001b[0;31mKeyError\u001b[0m                                  Traceback (most recent call last)",
      "\u001b[0;32m/var/folders/6f/kl4hyt6j101gbd00913mjsr80000gn/T/ipykernel_38292/3700157308.py\u001b[0m in \u001b[0;36m<module>\u001b[0;34m\u001b[0m\n\u001b[0;32m----> 1\u001b[0;31m \u001b[0mlen\u001b[0m\u001b[0;34m(\u001b[0m\u001b[0mdata\u001b[0m\u001b[0;34m.\u001b[0m\u001b[0mtest\u001b[0m\u001b[0;34m[\u001b[0m\u001b[0;34m\"train_images_mapping_original\"\u001b[0m\u001b[0;34m]\u001b[0m\u001b[0;34m)\u001b[0m\u001b[0;34m\u001b[0m\u001b[0;34m\u001b[0m\u001b[0m\n\u001b[0m",
      "\u001b[0;31mKeyError\u001b[0m: 'train_images_mapping_original'"
     ]
    }
   ],
   "source": [
    "len(data.test[\"train_images_mapping_original\"])"
   ]
  },
  {
   "cell_type": "code",
   "execution_count": null,
   "id": "d3d4fd6b",
   "metadata": {},
   "outputs": [],
   "source": [
    "len(data.train[\"test_images_mapping_original\"])"
   ]
  },
  {
   "cell_type": "code",
   "execution_count": null,
   "id": "344499cc",
   "metadata": {},
   "outputs": [],
   "source": [
    "len(data.test[\"train_images_mapping_original\"])"
   ]
  },
  {
   "cell_type": "code",
   "execution_count": null,
   "id": "eefbf054",
   "metadata": {},
   "outputs": [],
   "source": [
    "len(data.train[\"train_images_mapping_original\"])"
   ]
  },
  {
   "cell_type": "code",
   "execution_count": null,
   "id": "26ccfb97",
   "metadata": {},
   "outputs": [],
   "source": [
    "len(data.test[\"all_captions\"])"
   ]
  },
  {
   "cell_type": "code",
   "execution_count": null,
   "id": "75c8b1a6",
   "metadata": {},
   "outputs": [],
   "source": [
    "data.train[\"all_captions\"]"
   ]
  },
  {
   "cell_type": "code",
   "execution_count": null,
   "id": "6374272e",
   "metadata": {},
   "outputs": [],
   "source": [
    "len(data.test[\"train_captions_mapping_original\"])"
   ]
  },
  {
   "cell_type": "code",
   "execution_count": null,
   "id": "bb8c7cc9",
   "metadata": {},
   "outputs": [],
   "source": [
    "len(data.train[\"train_captions_mapping_original\"])"
   ]
  },
  {
   "cell_type": "code",
   "execution_count": null,
   "id": "91bdc532",
   "metadata": {},
   "outputs": [],
   "source": [
    "len(data.test[\"test_captions_mapping_original\"])"
   ]
  },
  {
   "cell_type": "code",
   "execution_count": null,
   "id": "51404dd0",
   "metadata": {},
   "outputs": [],
   "source": [
    "len(data.train[\"test_captions_mapping_original\"])"
   ]
  },
  {
   "cell_type": "code",
   "execution_count": null,
   "id": "3d9e66a2",
   "metadata": {},
   "outputs": [],
   "source": [
    "model=ModelImpl(data)"
   ]
  },
  {
   "cell_type": "code",
   "execution_count": null,
   "id": "900d0ad8",
   "metadata": {},
   "outputs": [],
   "source": [
    "model.train()"
   ]
  },
  {
   "cell_type": "code",
   "execution_count": null,
   "id": "6f97fee9",
   "metadata": {},
   "outputs": [],
   "source": [
    "model.evaluate()"
   ]
  },
  {
   "cell_type": "code",
   "execution_count": null,
   "id": "57e2b531",
   "metadata": {},
   "outputs": [],
   "source": [
    "generate_report(data.config[\"results_directory\"])"
   ]
  },
  {
   "cell_type": "code",
   "execution_count": null,
   "id": "983cdf9d",
   "metadata": {},
   "outputs": [],
   "source": []
  },
  {
   "cell_type": "code",
   "execution_count": null,
   "id": "55c9aad9",
   "metadata": {},
   "outputs": [],
   "source": []
  }
 ],
 "metadata": {
  "kernelspec": {
   "display_name": "framework",
   "language": "python",
   "name": "framework"
  },
  "language_info": {
   "codemirror_mode": {
    "name": "ipython",
    "version": 3
   },
   "file_extension": ".py",
   "mimetype": "text/x-python",
   "name": "python",
   "nbconvert_exporter": "python",
   "pygments_lexer": "ipython3",
   "version": "3.7.13"
  }
 },
 "nbformat": 4,
 "nbformat_minor": 5
}
