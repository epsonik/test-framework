{
 "cells": [
  {
   "cell_type": "code",
   "execution_count": 1,
   "id": "b2358b39",
   "metadata": {},
   "outputs": [],
   "source": [
    "from dataloader import *\n",
    "from  config import *\n",
    "from data_processor import preprocess_data"
   ]
  },
  {
   "cell_type": "code",
   "execution_count": 2,
   "id": "d4ac0b16",
   "metadata": {
    "pycharm": {
     "name": "#%%\n"
    }
   },
   "outputs": [
    {
     "name": "stdout",
     "output_type": "stream",
     "text": [
      "Loading dataset\n",
      "Loading train dataset\n",
      "Loading images splits\n",
      "Images splits loaded\n",
      "Number of train images:  6000\n",
      "Number of test images:  1000\n",
      "Loading all captions\n",
      "All captions loaded\n",
      "Nuber of all captions:  8092\n",
      "Loading captions splits\n",
      "Captions splits loaded\n",
      "Number of train captions:  6000\n",
      "Number of test test:  1000\n",
      "Loading test dataset\n",
      "Loading images splits\n",
      "Images splits loaded\n",
      "Number of train images:  6000\n",
      "Number of test images:  1000\n",
      "Loading all captions\n",
      "All captions loaded\n",
      "Nuber of all captions:  8092\n",
      "Loading captions splits\n",
      "Captions splits loaded\n",
      "Number of train captions:  6000\n",
      "Number of test test:  1000\n"
     ]
    }
   ],
   "source": [
    "data = DataLoader(config_mixed_coco14_coco14_Xception_glove_lstm512)"
   ]
  },
  {
   "cell_type": "code",
   "execution_count": 3,
   "id": "16bd7aa4",
   "metadata": {},
   "outputs": [
    {
     "name": "stdout",
     "output_type": "stream",
     "text": [
      "Number of train images:  6000\n",
      "Number of test images:  1000\n",
      "Number of train captions:  6000\n",
      "Number of test captions:  1000\n",
      "Descriptions cleaned.\n",
      "[['a', 'brown', 'and', 'a', 'black', 'dog', 'are', 'wearing', 'collars', 'and', 'playing', 'with', 'each', 'other'], ['a', 'brown', 'dog', 'biting', 'a', 'black', 'dog', 'on', 'a', 'sidewalk'], ['the', 'brown', 'dog', 'with', 'a', 'red', 'collar', 'is', 'biting', 'the', 'black', 'dog'], ['two', 'dogs', 'one', 'brown', 'and', 'one', 'black', 'playing', 'with', 'each', 'other'], ['two', 'dogs', 'one', 'brown', 'the', 'other', 'black', 'and', 'white', 'are', 'playing', 'on', 'a', 'sidewalk']]\n",
      "Descriptions wraped into start and stop words.\n",
      "['START a child in a pink dress is climbing up a set of stairs in an entry way STOP', 'START a girl going into a wooden building STOP', 'START a little girl climbing into a wooden playhouse STOP', 'START a little girl climbing the stairs to her playhouse STOP', 'START a little girl in a pink dress going into a wooden cabin STOP']\n",
      "Used: resnet50\n",
      "Encoded images loaded from: \n",
      "./mixed_flickr8k_flickr8k_resnet50_glove/Pickle/encoded_train_images.pkl\n",
      "Encoded images loaded from: \n",
      "./mixed_flickr8k_flickr8k_resnet50_glove/Pickle/encoded_train_images.pkl\n",
      "Number of training captions  30000\n",
      "Description Length: 37\n",
      "preprocessed words 7589 -> 1654\n",
      "Vocab size:  1655\n",
      "Word2Vec used\n",
      "(1655, 300)\n"
     ]
    }
   ],
   "source": [
    "data=preprocess_data(data)"
   ]
  },
  {
   "cell_type": "code",
   "execution_count": 4,
   "id": "b6a67206",
   "metadata": {},
   "outputs": [],
   "source": [
    "from keras.layers import LSTM, Embedding, Dense, Dropout\n",
    "from tensorflow.keras.optimizers import Adam\n",
    "from keras.layers.merge import add\n",
    "from keras.models import Model, load_model\n",
    "from tensorflow.keras.callbacks import ModelCheckpoint, EarlyStopping, CSVLogger\n",
    "from keras import Input\n",
    "from eval_utils import calculate_results, prepare_for_evaluation\n",
    "from keras.preprocessing.sequence import pad_sequences\n",
    "from tensorflow.keras.utils import to_categorical\n",
    "from numpy import array\n",
    "from eval_utils import generate_report"
   ]
  },
  {
   "cell_type": "code",
   "execution_count": 5,
   "id": "d3d4fd6b",
   "metadata": {},
   "outputs": [
    {
     "name": "stdout",
     "output_type": "stream",
     "text": [
      "Model: \"model_1\"\n",
      "__________________________________________________________________________________________________\n",
      "Layer (type)                    Output Shape         Param #     Connected to                     \n",
      "==================================================================================================\n",
      "input_3 (InputLayer)            [(None, 37)]         0                                            \n",
      "__________________________________________________________________________________________________\n",
      "input_2 (InputLayer)            [(None, 2048)]       0                                            \n",
      "__________________________________________________________________________________________________\n",
      "embedding (Embedding)           (None, 37, 300)      496500      input_3[0][0]                    \n",
      "__________________________________________________________________________________________________\n",
      "dropout (Dropout)               (None, 2048)         0           input_2[0][0]                    \n",
      "__________________________________________________________________________________________________\n",
      "dropout_1 (Dropout)             (None, 37, 300)      0           embedding[0][0]                  \n",
      "__________________________________________________________________________________________________\n",
      "dense (Dense)                   (None, 256)          524544      dropout[0][0]                    \n",
      "__________________________________________________________________________________________________\n",
      "lstm (LSTM)                     (None, 256)          570368      dropout_1[0][0]                  \n",
      "__________________________________________________________________________________________________\n",
      "add (Add)                       (None, 256)          0           dense[0][0]                      \n",
      "                                                                 lstm[0][0]                       \n",
      "__________________________________________________________________________________________________\n",
      "dense_1 (Dense)                 (None, 256)          65792       add[0][0]                        \n",
      "__________________________________________________________________________________________________\n",
      "dense_2 (Dense)                 (None, 1655)         425335      dense_1[0][0]                    \n",
      "==================================================================================================\n",
      "Total params: 2,082,539\n",
      "Trainable params: 2,082,539\n",
      "Non-trainable params: 0\n",
      "__________________________________________________________________________________________________\n"
     ]
    }
   ],
   "source": [
    "def data_generator(descriptions, photos, wordtoix, max_length, num_photos_per_batch, vocab_size):\n",
    "    \"\"\"\n",
    "    Data generator, that serves the data to the model during training\n",
    "\n",
    "\n",
    "    Parameters\n",
    "    ----------\n",
    "    descriptions: str\n",
    "        Dictionary where key is image id and value is a list of wraped in start and stop captions, lemmatized, without punctuation descriptions\n",
    "    photos\n",
    "        Dictionary with encoded images(vector of image features extracted by specified image feature extractor\n",
    "         fe. Inception), identified by image id\n",
    "    wordtoix\n",
    "        Dictionary with keys-words , values -id of word\n",
    "    max_length\n",
    "        Max number of words in caption on dataset\n",
    "    num_photos_per_batch: int\n",
    "    vocab_size: int\n",
    "    Returns\n",
    "    -------\n",
    "    \"\"\"\n",
    "    X1, X2, y = list(), list(), list()\n",
    "    n = 0\n",
    "    #iterujemy po opisach doobrazu\n",
    "    # kazdy opis zamieniamy na wektor liczb za pomoca slownika wordtoix\n",
    "    # tworzymy mase par (zdjęcie + slowa) i sekwencja wyjsciowa. Czyli na bazie czeci zdania i zdjecia przewidujemy reszte zdania\n",
    "    while 1:\n",
    "        for image_id, desc_list in descriptions.items():\n",
    "            n += 1\n",
    "            # retrieve the photo feature from the dictionary\n",
    "            photo = photos[image_id]\n",
    "            for desc in desc_list:\n",
    "                # encode the sentence by translating it to the number representation,\n",
    "                # with the dictionary of words created in in the previous stage\n",
    "                seq = [wordtoix[word] for word in desc.split(' ') if word in wordtoix]\n",
    "                # split one sequence into multiple X, y pairs\n",
    "                for i in range(1, len(seq)):\n",
    "                    # split into input and output pair\n",
    "                    in_seq, out_seq = seq[:i], seq[i]\n",
    "                    # pad input sequence\n",
    "                    in_seq = pad_sequences([in_seq], maxlen=max_length)[0]\n",
    "                    # encode output sequence\n",
    "                    out_seq = to_categorical([out_seq], num_classes=vocab_size)[0]\n",
    "                    # store\n",
    "                    X1.append(photo)\n",
    "                    X2.append(in_seq)\n",
    "                    y.append(out_seq)\n",
    "            # yield the batch data\n",
    "            if n == num_photos_per_batch:\n",
    "                yield ([array(X1), array(X2)], array(y))\n",
    "                X1, X2, y = list(), list(), list()\n",
    "                n = 0\n",
    "\n",
    "class ModelImpl:\n",
    "    def __init__(self, data):\n",
    "        self.data=data\n",
    "        if data.configuration['images_processor'] == 'vgg16' or data.configuration['images_processor'] == 'vgg19':\n",
    "            inputs1= Input(shape=(4096,))\n",
    "        elif data.configuration['images_processor'] == 'denseNet121':\n",
    "            inputs1= Input(shape=(1024,))\n",
    "        elif data.configuration['images_processor'] == 'mobileNet':\n",
    "            inputs1= Input(shape=(1000,))\n",
    "        elif data.configuration['images_processor'] == 'mobileNetV2':\n",
    "            inputs1= Input(shape=(1280,))\n",
    "        elif data.configuration['images_processor'] == 'denseNet201':\n",
    "            inputs1= Input(shape=(1920,))\n",
    "        else:\n",
    "            inputs1 = Input(shape=(2048,))\n",
    "        fe1 = Dropout(0.5)(inputs1)\n",
    "        fe2 = Dense(512, activation='relu')(fe1)\n",
    "        inputs2 = Input(shape=(self.data.max_length,))\n",
    "        # The Embedding layer can be understood as a lookup table that maps from integer\n",
    "        # indices (which stand for specific words) to dense vectors (their embeddings).\n",
    "        if data.configuration[\"text_processor\"] == \"fastText\":\n",
    "            se1 = Embedding(self.data.vocab_size, fastText[self.data.language][\"embedings_dim\"], mask_zero=True)(inputs2)\n",
    "        else:\n",
    "            se1 = Embedding(self.data.vocab_size, glove[self.data.language][\"embedings_dim\"], mask_zero=True)(inputs2)\n",
    "        se2 = Dropout(0.5)(se1)\n",
    "        se3 = LSTM(512)(se2)\n",
    "        decoder1 = add([fe2, se3])\n",
    "        decoder2 = Dense(512, activation='relu')(decoder1)\n",
    "        outputs = Dense(self.data.vocab_size, activation='softmax')(decoder2)\n",
    "        self.model = Model(inputs=[inputs1, inputs2], outputs=outputs)\n",
    "        self.model.summary()\n",
    "        self.model.layers[2]\n",
    "\n",
    "        self.model.layers[2].set_weights([self.data.embedding_matrix])\n",
    "        self.model.layers[2].trainable = False\n",
    "\n",
    "        self.model.compile(loss='categorical_crossentropy', optimizer=self.optimizer())\n",
    "        self.setup()\n",
    "\n",
    "    def optimizer(self):\n",
    "        return Adam(learning_rate=0.001, beta_1=0.9, beta_2=0.999, epsilon=1e-08, decay=0.0)\n",
    "\n",
    "    def setup(self):\n",
    "        # model.optimizer.lr = 0.001\n",
    "        self.epochs = 100\n",
    "        self.number_pics_per_bath = 3\n",
    "        self.steps = len(self.data.train_captions_wrapped) // self.number_pics_per_bath\n",
    "\n",
    "    def train(self):\n",
    "        model_weights_path=\"./\" + self.data.configuration[\"data_name\"] + self.data.configuration[\"model_save_dir\"]\n",
    "        if self.data.configuration[\"train_model\"]:\n",
    "            es = EarlyStopping(monitor='loss', min_delta=0.001, patience=3)\n",
    "            generator = data_generator(self.data.train_captions_wrapped,\n",
    "                                       self.data.encoded_images_train,\n",
    "                                       self.data.wordtoix,\n",
    "                                       self.data.max_length,\n",
    "                                       self.number_pics_per_bath,\n",
    "                                       self.data.vocab_size)\n",
    "            filepath = model_weights_path + self.data.configuration[\"model_save_path\"]\n",
    "            checkpoint = ModelCheckpoint(filepath, monitor='loss', verbose=1, save_best_only=True,\n",
    "                                         mode='min', save_weights_only=False)\n",
    "            callbacks_list = [checkpoint, es, CSVLogger(\"./\" + self.data.configuration[\"data_name\"] +'/logs.csv', separator=\",\", append=True),]\n",
    "            if self.data.configuration[\"continue_training\"]:\n",
    "                self.model = load_model(filepath)\n",
    "                print(\"New model loaded\")\n",
    "            self.model.fit(generator, epochs=self.epochs,\n",
    "                           steps_per_epoch=self.steps,\n",
    "                           callbacks=[callbacks_list],\n",
    "                           verbose=1)\n",
    "            if self.data.configuration[\"save_model\"]:\n",
    "                writepath = model_weights_path+ \"/\"+'model' + '.h5'\n",
    "                self.model.save(writepath)\n",
    "                self.model.save_weights(model_weights_path\n",
    "                                        + self.data.configuration[\"model_save_path\"])\n",
    "        else:\n",
    "            self.model.load_weights(model_weights_path\n",
    "                                        +self.data.configuration[\"model_save_path\"])\n",
    "\n",
    "    def evaluate(self):\n",
    "        expected, results = prepare_for_evaluation(self.data.encoded_images_test, self.data.test_captions_mapping,\n",
    "                                                   self.data.wordtoix, self.data.ixtoword, self.data.max_length,\n",
    "                                                   self.model, self.data.configuration[\"images_processor\"])\n",
    "        out = calculate_results(expected, results, self.data.configuration)\n",
    "        print(out)\n",
    "\n",
    "model=ModelImpl(data)\n"
   ]
  },
  {
   "cell_type": "code",
   "execution_count": 6,
   "id": "55c9aad9",
   "metadata": {},
   "outputs": [],
   "source": [
    "model.train()"
   ]
  },
  {
   "cell_type": "code",
   "execution_count": 7,
   "id": "4945ee14",
   "metadata": {
    "pycharm": {
     "name": "#%%\n"
    }
   },
   "outputs": [
    {
     "name": "stdout",
     "output_type": "stream",
     "text": [
      "Preparing for evaluation\n",
      "Processed:\n",
      "0\n",
      "Processed:\n",
      "100\n",
      "Processed:\n",
      "200\n",
      "Processed:\n",
      "300\n",
      "Processed:\n",
      "400\n",
      "Processed:\n",
      "500\n",
      "Processed:\n",
      "600\n",
      "Processed:\n",
      "700\n",
      "Processed:\n",
      "800\n",
      "Processed:\n",
      "900\n",
      "tokenization...\n",
      "setting up scorers...\n",
      "computing Bleu score...\n",
      "{'testlen': 10781, 'reflen': 10491, 'guess': [10781, 9781, 8781, 7781], 'correct': [5413, 1916, 591, 208]}\n",
      "ratio: 1.0276427413972902\n",
      "Bleu_1: 0.502\n",
      "Bleu_2: 0.314\n",
      "Bleu_3: 0.188\n",
      "Bleu_4: 0.115\n",
      "computing METEOR score...\n",
      "METEOR: 0.157\n",
      "computing Rouge score...\n",
      "ROUGE_L: 0.387\n",
      "computing CIDEr score...\n",
      "CIDEr: 0.224\n",
      "computing SPICE score...\n",
      "SPICE: 0.090\n",
      "computing WMD score...\n",
      "WMD: 0.095\n"
     ]
    },
    {
     "name": "stderr",
     "output_type": "stream",
     "text": [
      "IOPub data rate exceeded.\n",
      "The notebook server will temporarily stop sending output\n",
      "to the client in order to avoid crashing it.\n",
      "To change this limit, set the config variable\n",
      "`--NotebookApp.iopub_data_rate_limit`.\n",
      "\n",
      "Current values:\n",
      "NotebookApp.iopub_data_rate_limit=1000000.0 (bytes/sec)\n",
      "NotebookApp.rate_limit_window=3.0 (secs)\n",
      "\n"
     ]
    }
   ],
   "source": [
    "model.evaluate()"
   ]
  },
  {
   "cell_type": "code",
   "execution_count": 8,
   "id": "b2e82d24",
   "metadata": {
    "pycharm": {
     "name": "#%%\n"
    }
   },
   "outputs": [
    {
     "name": "stdout",
     "output_type": "stream",
     "text": [
      "\n",
      " Final results saved to final_results.csv\n"
     ]
    }
   ],
   "source": [
    "generate_report(general[\"results_directory\"])"
   ]
  },
  {
   "cell_type": "code",
   "execution_count": null,
   "id": "7747ef54",
   "metadata": {},
   "outputs": [],
   "source": []
  }
 ],
 "metadata": {
  "kernelspec": {
   "display_name": "framework",
   "language": "python",
   "name": "framework"
  },
  "language_info": {
   "codemirror_mode": {
    "name": "ipython",
    "version": 3
   },
   "file_extension": ".py",
   "mimetype": "text/x-python",
   "name": "python",
   "nbconvert_exporter": "python",
   "pygments_lexer": "ipython3",
   "version": "3.8.10"
  }
 },
 "nbformat": 4,
 "nbformat_minor": 5
}