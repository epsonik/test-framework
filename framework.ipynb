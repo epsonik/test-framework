{
 "cells": [
  {
   "cell_type": "code",
   "execution_count": 1,
   "id": "b2358b39",
   "metadata": {},
   "outputs": [
    {
     "ename": "SyntaxError",
     "evalue": "invalid syntax (dataloader.py, line 33)",
     "output_type": "error",
     "traceback": [
      "Traceback \u001B[0;36m(most recent call last)\u001B[0m:\n",
      "  File \u001B[1;32m~/.local/lib/python3.8/site-packages/IPython/core/interactiveshell.py:3361\u001B[0m in \u001B[1;35mrun_code\u001B[0m\n    exec(code_obj, self.user_global_ns, self.user_ns)\n",
      "\u001B[0;36m  Input \u001B[0;32mIn [1]\u001B[0;36m in \u001B[0;35m<cell line: 1>\u001B[0;36m\u001B[0m\n\u001B[0;31m    from dataloader import *\u001B[0m\n",
      "\u001B[0;36m  File \u001B[0;32m~/projects/test-framework/dataloader.py:33\u001B[0;36m\u001B[0m\n\u001B[0;31m    else\u001B[0m\n\u001B[0m        ^\u001B[0m\n\u001B[0;31mSyntaxError\u001B[0m\u001B[0;31m:\u001B[0m invalid syntax\n"
     ]
    }
   ],
   "source": [
    "from dataloader import *\n",
    "from  config import *"
   ]
  },
  {
   "cell_type": "code",
   "execution_count": 2,
   "id": "0cd4e618",
   "metadata": {
    "scrolled": true
   },
   "outputs": [
    {
     "ename": "NameError",
     "evalue": "name 'DataLoader' is not defined",
     "output_type": "error",
     "traceback": [
      "\u001B[0;31m---------------------------------------------------------------------------\u001B[0m",
      "\u001B[0;31mNameError\u001B[0m                                 Traceback (most recent call last)",
      "Input \u001B[0;32mIn [2]\u001B[0m, in \u001B[0;36m<cell line: 1>\u001B[0;34m()\u001B[0m\n\u001B[0;32m----> 1\u001B[0m data \u001B[38;5;241m=\u001B[39m \u001B[43mDataLoader\u001B[49m(config_mixed_coco2017_coco2017)\n",
      "\u001B[0;31mNameError\u001B[0m: name 'DataLoader' is not defined"
     ]
    }
   ],
   "source": [
    "data = DataLoader(config_mixed_coco2017_coco2017)\n",
    "# print(config_mixed_flickr8k_flickr8k)"
   ]
  },
  {
   "cell_type": "code",
   "execution_count": null,
   "id": "b6a67206",
   "metadata": {},
   "outputs": [],
   "source": [
    "data.train[\"train_images_mapping_original\"]"
   ]
  },
  {
   "cell_type": "code",
   "execution_count": null,
   "id": "d3d4fd6b",
   "metadata": {},
   "outputs": [],
   "source": []
  },
  {
   "cell_type": "code",
   "execution_count": null,
   "id": "c7de6ea4",
   "metadata": {},
   "outputs": [],
   "source": [
    "data.train[\"test_images_mapping_original\"]"
   ]
  },
  {
   "cell_type": "code",
   "execution_count": null,
   "id": "26ccfb97",
   "metadata": {},
   "outputs": [],
   "source": [
    "len(data.train[\"all_captions\"])"
   ]
  },
  {
   "cell_type": "code",
   "execution_count": null,
   "id": "6374272e",
   "metadata": {},
   "outputs": [],
   "source": [
    "data.train[\"train_captions_mapping_original\"]"
   ]
  },
  {
   "cell_type": "code",
   "execution_count": null,
   "id": "91bdc532",
   "metadata": {},
   "outputs": [],
   "source": [
    "data.train[\"test_captions_mapping_original\"]"
   ]
  },
  {
   "cell_type": "code",
   "execution_count": null,
   "id": "3d9e66a2",
   "metadata": {},
   "outputs": [],
   "source": [
    "model=ModelImpl(data)"
   ]
  },
  {
   "cell_type": "code",
   "execution_count": null,
   "id": "900d0ad8",
   "metadata": {},
   "outputs": [],
   "source": [
    "model.train()"
   ]
  },
  {
   "cell_type": "code",
   "execution_count": null,
   "id": "6f97fee9",
   "metadata": {},
   "outputs": [],
   "source": [
    "model.evaluate()"
   ]
  },
  {
   "cell_type": "code",
   "execution_count": null,
   "id": "57e2b531",
   "metadata": {},
   "outputs": [],
   "source": [
    "generate_report(data.config[\"results_directory\"])"
   ]
  },
  {
   "cell_type": "code",
   "execution_count": null,
   "id": "983cdf9d",
   "metadata": {},
   "outputs": [],
   "source": []
  },
  {
   "cell_type": "code",
   "execution_count": null,
   "id": "55c9aad9",
   "metadata": {},
   "outputs": [],
   "source": []
  }
 ],
 "metadata": {
  "kernelspec": {
   "display_name": "framework",
   "language": "python",
   "name": "framework"
  },
  "language_info": {
   "codemirror_mode": {
    "name": "ipython",
    "version": 3
   },
   "file_extension": ".py",
   "mimetype": "text/x-python",
   "name": "python",
   "nbconvert_exporter": "python",
   "pygments_lexer": "ipython3",
   "version": "3.8.10"
  }
 },
 "nbformat": 4,
 "nbformat_minor": 5
}