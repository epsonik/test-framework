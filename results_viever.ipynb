{
 "cells": [
  {
   "cell_type": "code",
   "execution_count": 2,
   "metadata": {
    "pycharm": {
     "name": "#%%\n"
    }
   },
   "outputs": [],
   "source": [
    "from config import general\n",
    "%matplotlib inline\n",
    "import sys\n",
    "sys.path.append(\"./coco-caption\")\n",
    "import matplotlib.pyplot as plt\n",
    "import skimage.io as io\n",
    "import pylab\n",
    "import os\n",
    "pylab.rcParams['figure.figsize'] = (10.0, 8.0)\n",
    "import json\n",
    "from json import encoder\n",
    "encoder.FLOAT_REPR = lambda o: format(o, '.3f')\n",
    "from dataloader import get_dataset_configuration, load_all_captions_flickr, load_all_captions_coco\n",
    "import glob\n",
    "import ipywidgets as widgets\n",
    "from IPython.display import display, clear_output\n",
    "from collections import deque    \n",
    "from ipywidgets import HBox, Output, Button\n",
    "from prettytable import PrettyTable\n"
   ]
  },
  {
   "cell_type": "code",
   "execution_count": 3,
   "metadata": {
    "pycharm": {
     "name": "#%%\n"
    }
   },
   "outputs": [],
   "source": [
    "def load_images_flickr(images_dir):\n",
    "    \"\"\"Method to map images ids to pictures\n",
    "\n",
    "    Parameters\n",
    "    ----------\n",
    "    images_dir: str\n",
    "        Path to the directory with all images from  Flickr type dataset\n",
    "    train_images_file_path\n",
    "        Path to the file with image names of images from train split\n",
    "    test_images_file_path\n",
    "        Path to the file with image names of images from test split\n",
    "    Returns\n",
    "    -------\n",
    "    train_images_mapping: dict->{image_filename: global path to the image}\n",
    "        train split of images\n",
    "    test_images_mapping: dict->{image_filename: global path to the image}\n",
    "        test split of images\n",
    "\n",
    "    \"\"\"\n",
    "    # add global paths to the all images in images_dir directory\n",
    "    all_images = glob.glob(images_dir + '*.jpg')\n",
    "    all_images_mapping=dict()\n",
    "    for i in all_images:  # img is list of full path names of all images\n",
    "        image_name = i.split(\"/\")[-1]\n",
    "        image_id = image_name.split(\".\")[0]\n",
    "        all_images_mapping[image_id] = i  # Add it to the dict of train images\n",
    "    return all_images_mapping\n",
    "\n",
    "def load_images_coco(configuration):\n",
    "    file_with_images_def = configuration[\"images_names_file_path\"]\n",
    "    images_folder = configuration[\"images_dir\"]\n",
    "    info = json.load(open(file_with_images_def))\n",
    "    all_images_mapping = dict()\n",
    "    for ix in range(len(info['images'])):\n",
    "        img = info['images'][ix]\n",
    "        image_filename = img['file_path'].rsplit(\".\", 1)[0]\n",
    "        file_path = images_folder + \"/\" + img['file_path']\n",
    "\n",
    "        if image_filename.find(\"/\") != -1:\n",
    "            image_filename = img['file_path'].rsplit(\"/\", 1)[1].rsplit(\".\", 1)[0]\n",
    "        if img['split'] in ['train','val', 'test', 'restval']:\n",
    "            all_images_mapping[image_filename] = file_path\n",
    "\n",
    "    return all_images_mapping\n",
    "\n",
    "def get_data_for_split(dataset_name):\n",
    "    train_dataset_configuration = get_dataset_configuration(dataset_name)\n",
    "    if train_dataset_configuration[\"data_name\"] in [\"flickr30k\", \"coco17\", \"coco14\"]:\n",
    "        all_images = load_images_coco(train_dataset_configuration)\n",
    "    if train_dataset_configuration[\"data_name\"] in [\"flickr30k_polish\", \"flickr8k_polish\", \"aide\", \"flickr8k\"]:\n",
    "        all_images = load_images_flickr(train_dataset_configuration[\"images_dir\"])\n",
    "    return all_images"
   ]
  },
  {
   "cell_type": "code",
   "execution_count": null,
   "metadata": {},
   "outputs": [],
   "source": []
  },
  {
   "cell_type": "code",
   "execution_count": 4,
   "metadata": {
    "pycharm": {
     "name": "#%%\n"
    }
   },
   "outputs": [
    {
     "name": "stdout",
     "output_type": "stream",
     "text": [
      "['mixed_flickr8k_8k_n.json', 'mixed_coco2014_coco2014.json']\n"
     ]
    },
    {
     "data": {
      "application/vnd.jupyter.widget-view+json": {
       "model_id": "e6a452cc47f0420999d28a38a86e3fed",
       "version_major": 2,
       "version_minor": 0
      },
      "text/plain": [
       "Select(description='Name of the dataset:', options=('mixed_flickr8k_8k_n.json', 'mixed_coco2014_coco2014.json'…"
      ]
     },
     "execution_count": 4,
     "metadata": {},
     "output_type": "execute_result"
    }
   ],
   "source": [
    "list_of_results = [ x  for x in os.listdir(general[\"results_directory\"]) if x.endswith(\".json\") ]\n",
    "print(list_of_results)\n",
    "selectbox = widgets.Select(\n",
    "    options=list_of_results,\n",
    "    value=list_of_results[0],\n",
    "    description='Name of the dataset:',\n",
    "    disabled=False\n",
    ")\n",
    "\n",
    "info = json.load(open(\"./\" + general[\"results_directory\"] + \"/\" +selectbox.value))\n",
    "dataset_name=info[\"dataset_name\"]\n",
    "images_ids = list(info['imgToEval'].keys())\n",
    "selectbox"
   ]
  },
  {
   "cell_type": "code",
   "execution_count": 5,
   "metadata": {
    "pycharm": {
     "name": "#%%\n"
    }
   },
   "outputs": [],
   "source": [
    "all_images = get_data_for_split(dataset_name)\n"
   ]
  },
  {
   "cell_type": "code",
   "execution_count": 8,
   "metadata": {
    "pycharm": {
     "name": "#%%\n"
    }
   },
   "outputs": [],
   "source": [
    "def show_image_and_captions(image_id):\n",
    "    image_results = info['imgToEval'][image_id]\n",
    "    print('Dataset name: {}'.format(dataset_name))\n",
    "    I = io.imread(all_images[image_id])\n",
    "    plt.imshow(I)\n",
    "    plt.axis('off')\n",
    "    plt.show()\n",
    "    print(\"Ground truth captions\")\n",
    "    print(image_results['ground_truth_captions'])\n",
    "    print(\"Predicted captions\")\n",
    "    print(image_results['caption'])\n",
    "    metrics= [\"Bleu_1\", \"Bleu_2\", \"Bleu_3\", \"Bleu_4\", \"METEOR\", \"ROUGE_L\", \"CIDEr\", \"WMD\"]\n",
    "    print( f'\\n===== Results =====' )\n",
    "    t = PrettyTable((\"Bleu_1\", \"Bleu_2\", \"Bleu_3\", \"Bleu_4\"))\n",
    "    t.add_row((image_results[\"Bleu_1\"], image_results[\"Bleu_2\"], image_results[\"Bleu_3\"], image_results[\"Bleu_4\"])) \n",
    "    t2 = PrettyTable((\"METEOR\", \"ROUGE_L\", \"CIDEr\", \"WMD\"))\n",
    "    t2.add_row((image_results[\"METEOR\"],image_results[\"ROUGE_L\"], image_results[\"CIDEr\"], image_results[\"WMD\"]))             \n",
    "    print(t)\n",
    "    print(t2)\n",
    "    print()\n"
   ]
  },
  {
   "cell_type": "code",
   "execution_count": 9,
   "metadata": {
    "pycharm": {
     "name": "#%%\n"
    }
   },
   "outputs": [
    {
     "data": {
      "application/vnd.jupyter.widget-view+json": {
       "model_id": "4fcc880b92ee483bbaf68f1e2f3ed772",
       "version_major": 2,
       "version_minor": 0
      },
      "text/plain": [
       "HBox(children=(Button(description='<', style=ButtonStyle()), Button(description='>', style=ButtonStyle())))"
      ]
     },
     "metadata": {},
     "output_type": "display_data"
    },
    {
     "data": {
      "application/vnd.jupyter.widget-view+json": {
       "model_id": "e3946c2ca00c4ba5be45f3f8415065f1",
       "version_major": 2,
       "version_minor": 0
      },
      "text/plain": [
       "Output()"
      ]
     },
     "metadata": {},
     "output_type": "display_data"
    }
   ],
   "source": [
    "d=deque(images_ids)\n",
    "left = Button(description=\"<\")\n",
    "right = Button(description=\">\")\n",
    "\n",
    "switch = [left, right]\n",
    "\n",
    "combined = HBox([items for items in switch])\n",
    "out = Output()\n",
    "def on_button_left(ex):\n",
    "    with out:\n",
    "        clear_output()\n",
    "        d.rotate(1)\n",
    "        show_image_and_captions(d[0])\n",
    "def on_button_right(ex):\n",
    "    with out:\n",
    "        clear_output()\n",
    "        d.rotate(-1)\n",
    "        show_image_and_captions(d[0])\n",
    "l=switch[0].on_click(on_button_left)\n",
    "r=switch[1].on_click(on_button_right)\n",
    "display(combined)\n",
    "display(out)"
   ]
  },
  {
   "cell_type": "code",
   "execution_count": null,
   "metadata": {},
   "outputs": [],
   "source": []
  },
  {
   "cell_type": "code",
   "execution_count": null,
   "metadata": {},
   "outputs": [],
   "source": []
  }
 ],
 "metadata": {
  "kernelspec": {
   "display_name": "framework",
   "language": "python",
   "name": "framework"
  },
  "language_info": {
   "codemirror_mode": {
    "name": "ipython",
    "version": 3
   },
   "file_extension": ".py",
   "mimetype": "text/x-python",
   "name": "python",
   "nbconvert_exporter": "python",
   "pygments_lexer": "ipython3",
   "version": "3.7.13"
  }
 },
 "nbformat": 4,
 "nbformat_minor": 1
}